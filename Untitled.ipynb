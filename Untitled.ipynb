{
 "cells": [
  {
   "cell_type": "code",
   "execution_count": 144,
   "id": "af1ca6f8",
   "metadata": {},
   "outputs": [],
   "source": [
    "import pandas as pd\n",
    "import matplotlib.pyplot as plt\n",
    "from scipy.stats import skew\n",
    "from scipy.stats import kurtosis\n",
    "from scipy.stats import variation\n",
    "\n",
    "import matplotlib.dates as mdates\n",
    "import numpy as np\n",
    "import datetime as dt"
   ]
  },
  {
   "cell_type": "code",
   "execution_count": 145,
   "id": "d23ce658",
   "metadata": {},
   "outputs": [],
   "source": [
    "data  = pd.read_csv('data.csv')"
   ]
  },
  {
   "cell_type": "code",
   "execution_count": 146,
   "id": "6b2d7bd3",
   "metadata": {},
   "outputs": [
    {
     "data": {
      "text/html": [
       "<div>\n",
       "<style scoped>\n",
       "    .dataframe tbody tr th:only-of-type {\n",
       "        vertical-align: middle;\n",
       "    }\n",
       "\n",
       "    .dataframe tbody tr th {\n",
       "        vertical-align: top;\n",
       "    }\n",
       "\n",
       "    .dataframe thead th {\n",
       "        text-align: right;\n",
       "    }\n",
       "</style>\n",
       "<table border=\"1\" class=\"dataframe\">\n",
       "  <thead>\n",
       "    <tr style=\"text-align: right;\">\n",
       "      <th></th>\n",
       "      <th>date</th>\n",
       "      <th>carbune</th>\n",
       "      <th>consum</th>\n",
       "      <th>hidro</th>\n",
       "      <th>hidrocarburi</th>\n",
       "      <th>nuclear</th>\n",
       "      <th>eolian</th>\n",
       "      <th>productie</th>\n",
       "      <th>fotovolt</th>\n",
       "      <th>biomasa</th>\n",
       "      <th>sold</th>\n",
       "    </tr>\n",
       "  </thead>\n",
       "  <tbody>\n",
       "    <tr>\n",
       "      <th>0</th>\n",
       "      <td>2022-03-09</td>\n",
       "      <td>1537</td>\n",
       "      <td>8393</td>\n",
       "      <td>1736</td>\n",
       "      <td>970</td>\n",
       "      <td>1417</td>\n",
       "      <td>1394</td>\n",
       "      <td>7131</td>\n",
       "      <td>0</td>\n",
       "      <td>77</td>\n",
       "      <td>1234</td>\n",
       "    </tr>\n",
       "    <tr>\n",
       "      <th>1</th>\n",
       "      <td>2022-03-08</td>\n",
       "      <td>1402</td>\n",
       "      <td>6920</td>\n",
       "      <td>1616</td>\n",
       "      <td>944</td>\n",
       "      <td>1411</td>\n",
       "      <td>440</td>\n",
       "      <td>5887</td>\n",
       "      <td>0</td>\n",
       "      <td>74</td>\n",
       "      <td>1033</td>\n",
       "    </tr>\n",
       "    <tr>\n",
       "      <th>2</th>\n",
       "      <td>2022-03-06</td>\n",
       "      <td>1412</td>\n",
       "      <td>5962</td>\n",
       "      <td>1590</td>\n",
       "      <td>962</td>\n",
       "      <td>1407</td>\n",
       "      <td>372</td>\n",
       "      <td>5813</td>\n",
       "      <td>0</td>\n",
       "      <td>70</td>\n",
       "      <td>149</td>\n",
       "    </tr>\n",
       "    <tr>\n",
       "      <th>3</th>\n",
       "      <td>2022-03-05</td>\n",
       "      <td>1429</td>\n",
       "      <td>7205</td>\n",
       "      <td>1574</td>\n",
       "      <td>940</td>\n",
       "      <td>1411</td>\n",
       "      <td>309</td>\n",
       "      <td>5755</td>\n",
       "      <td>18</td>\n",
       "      <td>74</td>\n",
       "      <td>1469</td>\n",
       "    </tr>\n",
       "    <tr>\n",
       "      <th>4</th>\n",
       "      <td>2022-03-03</td>\n",
       "      <td>1557</td>\n",
       "      <td>8033</td>\n",
       "      <td>2100</td>\n",
       "      <td>978</td>\n",
       "      <td>1393</td>\n",
       "      <td>575</td>\n",
       "      <td>6687</td>\n",
       "      <td>0</td>\n",
       "      <td>83</td>\n",
       "      <td>1347</td>\n",
       "    </tr>\n",
       "    <tr>\n",
       "      <th>...</th>\n",
       "      <td>...</td>\n",
       "      <td>...</td>\n",
       "      <td>...</td>\n",
       "      <td>...</td>\n",
       "      <td>...</td>\n",
       "      <td>...</td>\n",
       "      <td>...</td>\n",
       "      <td>...</td>\n",
       "      <td>...</td>\n",
       "      <td>...</td>\n",
       "      <td>...</td>\n",
       "    </tr>\n",
       "    <tr>\n",
       "      <th>1394</th>\n",
       "      <td>2019-03-11</td>\n",
       "      <td>1086</td>\n",
       "      <td>7271</td>\n",
       "      <td>1662</td>\n",
       "      <td>1089</td>\n",
       "      <td>1393</td>\n",
       "      <td>2174</td>\n",
       "      <td>7524</td>\n",
       "      <td>68</td>\n",
       "      <td>53</td>\n",
       "      <td>-254</td>\n",
       "    </tr>\n",
       "    <tr>\n",
       "      <th>1395</th>\n",
       "      <td>2019-03-10</td>\n",
       "      <td>1266</td>\n",
       "      <td>6307</td>\n",
       "      <td>734</td>\n",
       "      <td>861</td>\n",
       "      <td>1396</td>\n",
       "      <td>2654</td>\n",
       "      <td>7560</td>\n",
       "      <td>603</td>\n",
       "      <td>45</td>\n",
       "      <td>-1253</td>\n",
       "    </tr>\n",
       "    <tr>\n",
       "      <th>1396</th>\n",
       "      <td>2019-03-09</td>\n",
       "      <td>1544</td>\n",
       "      <td>6502</td>\n",
       "      <td>1290</td>\n",
       "      <td>1074</td>\n",
       "      <td>1396</td>\n",
       "      <td>229</td>\n",
       "      <td>6195</td>\n",
       "      <td>609</td>\n",
       "      <td>54</td>\n",
       "      <td>308</td>\n",
       "    </tr>\n",
       "    <tr>\n",
       "      <th>1397</th>\n",
       "      <td>2019-03-08</td>\n",
       "      <td>2116</td>\n",
       "      <td>7348</td>\n",
       "      <td>1948</td>\n",
       "      <td>1105</td>\n",
       "      <td>1385</td>\n",
       "      <td>549</td>\n",
       "      <td>7211</td>\n",
       "      <td>52</td>\n",
       "      <td>57</td>\n",
       "      <td>137</td>\n",
       "    </tr>\n",
       "    <tr>\n",
       "      <th>1398</th>\n",
       "      <td>2019-03-07</td>\n",
       "      <td>2056</td>\n",
       "      <td>8502</td>\n",
       "      <td>1693</td>\n",
       "      <td>1359</td>\n",
       "      <td>1387</td>\n",
       "      <td>2391</td>\n",
       "      <td>8944</td>\n",
       "      <td>-1</td>\n",
       "      <td>57</td>\n",
       "      <td>-442</td>\n",
       "    </tr>\n",
       "  </tbody>\n",
       "</table>\n",
       "<p>1399 rows × 11 columns</p>\n",
       "</div>"
      ],
      "text/plain": [
       "            date  carbune  consum  hidro  hidrocarburi  nuclear  eolian  \\\n",
       "0     2022-03-09     1537    8393   1736           970     1417    1394   \n",
       "1     2022-03-08     1402    6920   1616           944     1411     440   \n",
       "2     2022-03-06     1412    5962   1590           962     1407     372   \n",
       "3     2022-03-05     1429    7205   1574           940     1411     309   \n",
       "4     2022-03-03     1557    8033   2100           978     1393     575   \n",
       "...          ...      ...     ...    ...           ...      ...     ...   \n",
       "1394  2019-03-11     1086    7271   1662          1089     1393    2174   \n",
       "1395  2019-03-10     1266    6307    734           861     1396    2654   \n",
       "1396  2019-03-09     1544    6502   1290          1074     1396     229   \n",
       "1397  2019-03-08     2116    7348   1948          1105     1385     549   \n",
       "1398  2019-03-07     2056    8502   1693          1359     1387    2391   \n",
       "\n",
       "      productie  fotovolt  biomasa  sold  \n",
       "0          7131         0       77  1234  \n",
       "1          5887         0       74  1033  \n",
       "2          5813         0       70   149  \n",
       "3          5755        18       74  1469  \n",
       "4          6687         0       83  1347  \n",
       "...         ...       ...      ...   ...  \n",
       "1394       7524        68       53  -254  \n",
       "1395       7560       603       45 -1253  \n",
       "1396       6195       609       54   308  \n",
       "1397       7211        52       57   137  \n",
       "1398       8944        -1       57  -442  \n",
       "\n",
       "[1399 rows x 11 columns]"
      ]
     },
     "execution_count": 146,
     "metadata": {},
     "output_type": "execute_result"
    }
   ],
   "source": [
    "data"
   ]
  },
  {
   "cell_type": "code",
   "execution_count": 157,
   "id": "8c953d18",
   "metadata": {},
   "outputs": [
    {
     "data": {
      "image/png": "[encoded data removed]",
      "text/plain": [
       "<Figure size 432x288 with 1 Axes>"
      ]
     },
     "metadata": {
      "needs_background": "light"
     },
     "output_type": "display_data"
    }
   ],
   "source": [
    "#plt.gca().xaxis.set_major_formatter(mdates.DateFormatter('%Y-%m-%d'))\n",
    "plt.gca().xaxis.set_major_locator(mdates.DayLocator(interval=100))\n",
    "plt.plot(np.flip(data.date),data.nuclear)\n",
    "plt.gcf().autofmt_xdate()\n",
    "plt.xlabel(\"Date\")\n",
    "plt.ylabel(\"MW\")\n",
    "plt.title(\"Coal\")\n",
    "plt.tight_layout()\n",
    "plt.show()"
   ]
  },
  {
   "cell_type": "code",
   "execution_count": 148,
   "id": "3c7fce7b",
   "metadata": {},
   "outputs": [
    {
     "data": {
      "image/png": "[encoded data removed]",
      "text/plain": [
       "<Figure size 432x288 with 1 Axes>"
      ]
     },
     "metadata": {
      "needs_background": "light"
     },
     "output_type": "display_data"
    }
   ],
   "source": [
    "#plt.gca().xaxis.set_major_formatter(mdates.DateFormatter('%Y-%m-%d'))\n",
    "plt.gca().xaxis.set_major_locator(mdates.DayLocator(interval=100))\n",
    "plt.plot(np.flip(data.date),(np.convolve(data.hidro, np.ones(7), 'same') / 7))\n",
    "plt.gcf().autofmt_xdate()\n",
    "plt.xlabel(\"Date\")\n",
    "plt.ylabel(\"MW\")\n",
    "plt.title(\"Coal\")\n",
    "plt.tight_layout()\n",
    "plt.show()"
   ]
  },
  {
   "cell_type": "code",
   "execution_count": null,
   "id": "a0b6baed",
   "metadata": {},
   "outputs": [],
   "source": []
  },
  {
   "cell_type": "code",
   "execution_count": 171,
   "id": "8c8b000d",
   "metadata": {},
   "outputs": [
    {
     "name": "stdout",
     "output_type": "stream",
     "text": [
      "1270.3659756969264\n",
      "315.2215947033026\n",
      "-0.23125097385386614\n",
      "0.10395615438456574\n",
      "0.2481344752092964\n",
      "333\n",
      "2168\n"
     ]
    },
    {
     "data": {
      "text/plain": [
       "(array([  6.,  18.,  46.,  28.,   7.,   5.,  11.,  19.,  21.,  42.,  63.,\n",
       "         73., 162., 155., 118.,  95.,  99.,  92.,  88.,  65.,  70.,  43.,\n",
       "         33.,  12.,  10.,   6.,   6.]),\n",
       " array([ 482.71428571,  537.55555556,  592.3968254 ,  647.23809524,\n",
       "         702.07936508,  756.92063492,  811.76190476,  866.6031746 ,\n",
       "         921.44444444,  976.28571429, 1031.12698413, 1085.96825397,\n",
       "        1140.80952381, 1195.65079365, 1250.49206349, 1305.33333333,\n",
       "        1360.17460317, 1415.01587302, 1469.85714286, 1524.6984127 ,\n",
       "        1579.53968254, 1634.38095238, 1689.22222222, 1744.06349206,\n",
       "        1798.9047619 , 1853.74603175, 1908.58730159, 1963.42857143]),\n",
       " <BarContainer object of 27 artists>)"
      ]
     },
     "execution_count": 171,
     "metadata": {},
     "output_type": "execute_result"
    },
    {
     "data": {
      "image/png": "[encoded data removed]",
      "text/plain": [
       "<Figure size 432x288 with 1 Axes>"
      ]
     },
     "metadata": {
      "needs_background": "light"
     },
     "output_type": "display_data"
    }
   ],
   "source": [
    "print(data.carbune.mean())\n",
    "print(np.std(data.carbune))\n",
    "print(skew(data.carbune))\n",
    "print(kurtosis(data.carbune))\n",
    "print(variation(data.carbune))\n",
    "print(data.carbune.min())\n",
    "print(data.carbune.max())\n",
    "\n",
    "plt.hist(data.carbune, bins ='auto')\n",
    "plt.hist(np.convolve(data.carbune, np.ones(7), 'valid') / 7, bins ='auto')"
   ]
  },
  {
   "cell_type": "code",
   "execution_count": 172,
   "id": "81a74412",
   "metadata": {},
   "outputs": [
    {
     "name": "stdout",
     "output_type": "stream",
     "text": [
      "1852.9671193709792\n",
      "724.3790362765338\n",
      "0.6617011856669276\n",
      "0.1013467496981093\n",
      "0.39092924461737694\n",
      "159\n",
      "4200\n"
     ]
    },
    {
     "data": {
      "text/plain": [
       "(array([ 24.,  57., 118., 147., 142., 146., 118., 120., 112.,  72.,  53.,\n",
       "         55.,  38.,  26.,  29.,  13.,  22.,  12.,  13.,  31.,  10.,  22.,\n",
       "         13.]),\n",
       " array([ 940.        , 1059.48447205, 1178.9689441 , 1298.45341615,\n",
       "        1417.9378882 , 1537.42236025, 1656.9068323 , 1776.39130435,\n",
       "        1895.8757764 , 2015.36024845, 2134.8447205 , 2254.32919255,\n",
       "        2373.8136646 , 2493.29813665, 2612.7826087 , 2732.26708075,\n",
       "        2851.7515528 , 2971.23602484, 3090.72049689, 3210.20496894,\n",
       "        3329.68944099, 3449.17391304, 3568.65838509, 3688.14285714]),\n",
       " <BarContainer object of 23 artists>)"
      ]
     },
     "execution_count": 172,
     "metadata": {},
     "output_type": "execute_result"
    },
    {
     "data": {
      "image/png": "[encoded data removed]",
      "text/plain": [
       "<Figure size 432x288 with 1 Axes>"
      ]
     },
     "metadata": {
      "needs_background": "light"
     },
     "output_type": "display_data"
    }
   ],
   "source": [
    "print(data.hidro.mean())\n",
    "print(np.std(data.hidro))\n",
    "print(skew(data.hidro))\n",
    "print(kurtosis(data.hidro))\n",
    "print(variation(data.hidro))\n",
    "print(data.hidro.min())\n",
    "print(data.hidro.max())\n",
    "\n",
    "plt.hist(data.hidro, bins ='auto')\n",
    "plt.hist(np.convolve(data.hidro, np.ones(7), 'valid') / 7, bins ='auto')"
   ]
  },
  {
   "cell_type": "code",
   "execution_count": 173,
   "id": "729c79d5",
   "metadata": {},
   "outputs": [
    {
     "name": "stdout",
     "output_type": "stream",
     "text": [
      "1150.2130092923517\n",
      "431.54934112621413\n",
      "-0.05110467725747915\n",
      "-0.8779002311863366\n",
      "0.3751908017382948\n",
      "210\n",
      "2068\n"
     ]
    },
    {
     "data": {
      "text/plain": [
       "(array([ 27.,  53.,  60.,  88.,  79.,  90., 101., 168., 169.,  96.,  97.,\n",
       "         65.,  94., 128.,  50.,   7.,  21.]),\n",
       " array([ 334.28571429,  433.19327731,  532.10084034,  631.00840336,\n",
       "         729.91596639,  828.82352941,  927.73109244, 1026.63865546,\n",
       "        1125.54621849, 1224.45378151, 1323.36134454, 1422.26890756,\n",
       "        1521.17647059, 1620.08403361, 1718.99159664, 1817.89915966,\n",
       "        1916.80672269, 2015.71428571]),\n",
       " <BarContainer object of 17 artists>)"
      ]
     },
     "execution_count": 173,
     "metadata": {},
     "output_type": "execute_result"
    },
    {
     "data": {
      "image/png": "[encoded data removed]",
      "text/plain": [
       "<Figure size 432x288 with 1 Axes>"
      ]
     },
     "metadata": {
      "needs_background": "light"
     },
     "output_type": "display_data"
    }
   ],
   "source": [
    "print(data.hidrocarburi.mean())\n",
    "print(np.std(data.hidrocarburi))\n",
    "print(skew(data.hidrocarburi))\n",
    "print(kurtosis(data.hidrocarburi))\n",
    "print(variation(data.hidrocarburi))\n",
    "print(data.hidrocarburi.min())\n",
    "print(data.hidrocarburi.max())\n",
    "\n",
    "plt.hist(data.hidrocarburi, bins ='auto')\n",
    "plt.hist(np.convolve(data.hidrocarburi, np.ones(7), 'valid') / 7, bins ='auto')"
   ]
  },
  {
   "cell_type": "code",
   "execution_count": 174,
   "id": "1cdb5289",
   "metadata": {},
   "outputs": [
    {
     "name": "stdout",
     "output_type": "stream",
     "text": [
      "1298.8956397426734\n",
      "236.54612481738187\n",
      "-2.125504734257011\n",
      "2.682057895769576\n",
      "0.18211326420669519\n",
      "626\n",
      "1436\n"
     ]
    },
    {
     "data": {
      "text/plain": [
       "(array([ 18.,  40.,  45.,  34.,   1.,   2.,   0.,   1.,   1.,   2.,   2.,\n",
       "          2.,   1.,   0.,   1.,   1.,   0.,   2.,   1.,   3.,   1.,   1.,\n",
       "          1.,   0.,   1.,   1.,   1.,   2.,   2.,   2.,   0.,   5.,   1.,\n",
       "          1.,   2.,   1.,   7.,   1.,   2.,   5.,   2.,   4.,   4.,   3.,\n",
       "          3.,   3.,   1.,   2.,   1.,   3.,   1.,   2.,   2.,   6.,   5.,\n",
       "          4.,   7.,  40.,  65.,  50.,  90., 108., 110., 177., 311., 195.]),\n",
       " array([ 663.71428571,  675.27272727,  686.83116883,  698.38961039,\n",
       "         709.94805195,  721.50649351,  733.06493506,  744.62337662,\n",
       "         756.18181818,  767.74025974,  779.2987013 ,  790.85714286,\n",
       "         802.41558442,  813.97402597,  825.53246753,  837.09090909,\n",
       "         848.64935065,  860.20779221,  871.76623377,  883.32467532,\n",
       "         894.88311688,  906.44155844,  918.        ,  929.55844156,\n",
       "         941.11688312,  952.67532468,  964.23376623,  975.79220779,\n",
       "         987.35064935,  998.90909091, 1010.46753247, 1022.02597403,\n",
       "        1033.58441558, 1045.14285714, 1056.7012987 , 1068.25974026,\n",
       "        1079.81818182, 1091.37662338, 1102.93506494, 1114.49350649,\n",
       "        1126.05194805, 1137.61038961, 1149.16883117, 1160.72727273,\n",
       "        1172.28571429, 1183.84415584, 1195.4025974 , 1206.96103896,\n",
       "        1218.51948052, 1230.07792208, 1241.63636364, 1253.19480519,\n",
       "        1264.75324675, 1276.31168831, 1287.87012987, 1299.42857143,\n",
       "        1310.98701299, 1322.54545455, 1334.1038961 , 1345.66233766,\n",
       "        1357.22077922, 1368.77922078, 1380.33766234, 1391.8961039 ,\n",
       "        1403.45454545, 1415.01298701, 1426.57142857]),\n",
       " <BarContainer object of 66 artists>)"
      ]
     },
     "execution_count": 174,
     "metadata": {},
     "output_type": "execute_result"
    },
    {
     "data": {
      "image/png": "[encoded data removed]",
      "text/plain": [
       "<Figure size 432x288 with 1 Axes>"
      ]
     },
     "metadata": {
      "needs_background": "light"
     },
     "output_type": "display_data"
    }
   ],
   "source": [
    "print(data.nuclear.mean())\n",
    "print(np.std(data.nuclear))\n",
    "print(skew(data.nuclear))\n",
    "print(kurtosis(data.nuclear))\n",
    "print(variation(data.nuclear))\n",
    "print(data.nuclear.min())\n",
    "print(data.nuclear.max())\n",
    "\n",
    "plt.hist(data.nuclear, bins ='auto')\n",
    "plt.hist(np.convolve(data.nuclear, np.ones(7), 'valid') / 7, bins ='auto')"
   ]
  },
  {
   "cell_type": "code",
   "execution_count": 175,
   "id": "ee87298d",
   "metadata": {},
   "outputs": [
    {
     "name": "stdout",
     "output_type": "stream",
     "text": [
      "764.8127233738385\n",
      "672.9689061391396\n",
      "0.972029310837159\n",
      "0.013144386159567034\n",
      "0.8799133246246926\n",
      "-24\n",
      "2756\n"
     ]
    },
    {
     "data": {
      "text/plain": [
       "(array([ 36.,  64.,  98., 121., 122., 136., 138., 120., 103., 102.,  84.,\n",
       "         77.,  47.,  51.,  36.,  26.,  14.,   5.,   4.,   5.,   1.,   3.]),\n",
       " array([  66.        ,  160.51298701,  255.02597403,  349.53896104,\n",
       "         444.05194805,  538.56493506,  633.07792208,  727.59090909,\n",
       "         822.1038961 ,  916.61688312, 1011.12987013, 1105.64285714,\n",
       "        1200.15584416, 1294.66883117, 1389.18181818, 1483.69480519,\n",
       "        1578.20779221, 1672.72077922, 1767.23376623, 1861.74675325,\n",
       "        1956.25974026, 2050.77272727, 2145.28571429]),\n",
       " <BarContainer object of 22 artists>)"
      ]
     },
     "execution_count": 175,
     "metadata": {},
     "output_type": "execute_result"
    },
    {
     "data": {
      "image/png": "[encoded data removed]",
      "text/plain": [
       "<Figure size 432x288 with 1 Axes>"
      ]
     },
     "metadata": {
      "needs_background": "light"
     },
     "output_type": "display_data"
    }
   ],
   "source": [
    "print(data.eolian.mean())\n",
    "print(np.std(data.eolian))\n",
    "print(skew(data.eolian))\n",
    "print(kurtosis(data.eolian))\n",
    "print(variation(data.eolian))\n",
    "print(data.eolian.min())\n",
    "print(data.eolian.max())\n",
    "\n",
    "plt.hist(data.eolian, bins ='auto')\n",
    "plt.hist(np.convolve(data.eolian, np.ones(7), 'valid') / 7, bins ='auto')"
   ]
  },
  {
   "cell_type": "code",
   "execution_count": 176,
   "id": "f1877b37",
   "metadata": {},
   "outputs": [
    {
     "name": "stdout",
     "output_type": "stream",
     "text": [
      "153.67190850607577\n",
      "225.67270006037637\n",
      "1.3040333355568767\n",
      "0.36682250776919645\n",
      "1.4685358062788287\n",
      "-3\n",
      "839\n"
     ]
    },
    {
     "data": {
      "text/plain": [
       "(array([ 64., 109., 152., 103., 120.,  89., 122., 139., 145., 166., 104.,\n",
       "         29.,  26.,   5.,   6.,   3.,   4.,   2.,   0.,   1.,   1.,   1.,\n",
       "          1.,   0.,   1.]),\n",
       " array([4.28571429e-01, 2.47257143e+01, 4.90228571e+01, 7.33200000e+01,\n",
       "        9.76171429e+01, 1.21914286e+02, 1.46211429e+02, 1.70508571e+02,\n",
       "        1.94805714e+02, 2.19102857e+02, 2.43400000e+02, 2.67697143e+02,\n",
       "        2.91994286e+02, 3.16291429e+02, 3.40588571e+02, 3.64885714e+02,\n",
       "        3.89182857e+02, 4.13480000e+02, 4.37777143e+02, 4.62074286e+02,\n",
       "        4.86371429e+02, 5.10668571e+02, 5.34965714e+02, 5.59262857e+02,\n",
       "        5.83560000e+02, 6.07857143e+02]),\n",
       " <BarContainer object of 25 artists>)"
      ]
     },
     "execution_count": 176,
     "metadata": {},
     "output_type": "execute_result"
    },
    {
     "data": {
      "image/png": "[encoded data removed]",
      "text/plain": [
       "<Figure size 432x288 with 1 Axes>"
      ]
     },
     "metadata": {
      "needs_background": "light"
     },
     "output_type": "display_data"
    }
   ],
   "source": [
    "print(data.fotovolt.mean())\n",
    "print(np.std(data.fotovolt))\n",
    "print(skew(data.fotovolt))\n",
    "print(kurtosis(data.fotovolt))\n",
    "print(variation(data.fotovolt))\n",
    "print(data.fotovolt.min())\n",
    "print(data.fotovolt.max())\n",
    "\n",
    "\n",
    "plt.hist(data.fotovolt, bins ='auto')\n",
    "plt.hist(np.convolve(data.fotovolt, np.ones(7), 'valid') / 7, bins ='auto')"
   ]
  },
  {
   "cell_type": "code",
   "execution_count": 177,
   "id": "203a9e12",
   "metadata": {},
   "outputs": [
    {
     "name": "stdout",
     "output_type": "stream",
     "text": [
      "58.258041458184415\n",
      "14.029526889954816\n",
      "-0.34533303613912797\n",
      "-0.6760767903204936\n",
      "0.2408170020618479\n",
      "19\n",
      "87\n"
     ]
    },
    {
     "data": {
      "text/plain": [
       "(array([ 12.,  20.,  27.,  75.,  59., 100.,  85., 118.,  77., 104., 147.,\n",
       "        163., 182., 102.,  86.,  36.]),\n",
       " array([23.42857143, 27.11607143, 30.80357143, 34.49107143, 38.17857143,\n",
       "        41.86607143, 45.55357143, 49.24107143, 52.92857143, 56.61607143,\n",
       "        60.30357143, 63.99107143, 67.67857143, 71.36607143, 75.05357143,\n",
       "        78.74107143, 82.42857143]),\n",
       " <BarContainer object of 16 artists>)"
      ]
     },
     "execution_count": 177,
     "metadata": {},
     "output_type": "execute_result"
    },
    {
     "data": {
      "image/png": "[encoded data removed]",
      "text/plain": [
       "<Figure size 432x288 with 1 Axes>"
      ]
     },
     "metadata": {
      "needs_background": "light"
     },
     "output_type": "display_data"
    }
   ],
   "source": [
    "print(data.biomasa.mean())\n",
    "print(np.std(data.biomasa))\n",
    "print(skew(data.biomasa))\n",
    "print(kurtosis(data.biomasa))\n",
    "print(variation(data.biomasa))\n",
    "print(data.biomasa.min())\n",
    "print(data.biomasa.max())\n",
    "\n",
    "plt.hist(data.biomasa, bins ='auto')\n",
    "plt.hist(np.convolve(data.biomasa, np.ones(7), 'valid') / 7, bins ='auto')"
   ]
  },
  {
   "cell_type": "code",
   "execution_count": 179,
   "id": "a85de497",
   "metadata": {},
   "outputs": [
    {
     "name": "stdout",
     "output_type": "stream",
     "text": [
      "248.41744102930664\n",
      "700.0988208681788\n",
      "-0.24831277592597426\n",
      "-0.4584627516338986\n",
      "2.818235378189834\n",
      "-2073\n",
      "2025\n"
     ]
    },
    {
     "data": {
      "text/plain": [
       "(array([  2.,   1.,   7.,  16.,  13.,  29.,  29.,  56.,  54.,  78., 101.,\n",
       "        111., 120., 137., 129., 107., 133., 121.,  79.,  51.,  19.]),\n",
       " array([-1247.57142857, -1134.71428571, -1021.85714286,  -909.        ,\n",
       "         -796.14285714,  -683.28571429,  -570.42857143,  -457.57142857,\n",
       "         -344.71428571,  -231.85714286,  -119.        ,    -6.14285714,\n",
       "          106.71428571,   219.57142857,   332.42857143,   445.28571429,\n",
       "          558.14285714,   671.        ,   783.85714286,   896.71428571,\n",
       "         1009.57142857,  1122.42857143]),\n",
       " <BarContainer object of 21 artists>)"
      ]
     },
     "execution_count": 179,
     "metadata": {},
     "output_type": "execute_result"
    },
    {
     "data": {
      "image/png": "[encoded data removed]",
      "text/plain": [
       "<Figure size 432x288 with 1 Axes>"
      ]
     },
     "metadata": {
      "needs_background": "light"
     },
     "output_type": "display_data"
    }
   ],
   "source": [
    "print(data.sold.mean())\n",
    "print(np.std(data.sold))\n",
    "print(skew(data.sold))\n",
    "print(kurtosis(data.sold))\n",
    "print(variation(data.sold))\n",
    "print(data.sold.min())\n",
    "print(data.sold.max())\n",
    "\n",
    "\n",
    "plt.hist(data.sold, bins ='auto')\n",
    "#plt.hist(np.convolve(data.sold, np.ones(7), 'valid') / 7, bins ='auto')"
   ]
  },
  {
   "cell_type": "code",
   "execution_count": null,
   "id": "52e6a21f",
   "metadata": {},
   "outputs": [],
   "source": []
  },
  {
   "cell_type": "code",
   "execution_count": null,
   "id": "6bdfdb35",
   "metadata": {},
   "outputs": [],
   "source": []
  },
  {
   "cell_type": "code",
   "execution_count": null,
   "id": "e3c147c6",
   "metadata": {},
   "outputs": [],
   "source": []
  }
 ],
 "metadata": {
  "kernelspec": {
   "display_name": "Python 3 (ipykernel)",
   "language": "python",
   "name": "python3"
  },
  "language_info": {
   "codemirror_mode": {
    "name": "ipython",
    "version": 3
   },
   "file_extension": ".py",
   "mimetype": "text/x-python",
   "name": "python",
   "nbconvert_exporter": "python",
   "pygments_lexer": "ipython3",
   "version": "3.10.2"
  }
 },
 "nbformat": 4,
 "nbformat_minor": 5
}
