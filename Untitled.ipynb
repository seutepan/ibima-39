{
 "cells": [
  {
   "cell_type": "code",
   "execution_count": 100,
   "id": "af1ca6f8",
   "metadata": {},
   "outputs": [],
   "source": [
    "import pandas as pd\n",
    "import matplotlib.pyplot as plt\n",
    "from scipy.stats import skew\n",
    "from scipy.stats import kurtosis\n",
    "from scipy.stats import variation\n",
    "\n",
    "import matplotlib.dates as mdates\n",
    "import numpy as np\n",
    "import datetime as dt"
   ]
  },
  {
   "cell_type": "code",
   "execution_count": 101,
   "id": "2cc27966",
   "metadata": {},
   "outputs": [],
   "source": [
    "data  = pd.read_csv('data.csv')"
   ]
  },
  {
   "cell_type": "code",
   "execution_count": 103,
   "id": "9b02e0d6",
   "metadata": {},
   "outputs": [
    {
     "data": {
      "text/html": [
       "<div>\n",
       "<style scoped>\n",
       "    .dataframe tbody tr th:only-of-type {\n",
       "        vertical-align: middle;\n",
       "    }\n",
       "\n",
       "    .dataframe tbody tr th {\n",
       "        vertical-align: top;\n",
       "    }\n",
       "\n",
       "    .dataframe thead th {\n",
       "        text-align: right;\n",
       "    }\n",
       "</style>\n",
       "<table border=\"1\" class=\"dataframe\">\n",
       "  <thead>\n",
       "    <tr style=\"text-align: right;\">\n",
       "      <th></th>\n",
       "      <th>date</th>\n",
       "      <th>carbune</th>\n",
       "      <th>consum</th>\n",
       "      <th>hidro</th>\n",
       "      <th>hidrocarburi</th>\n",
       "      <th>nuclear</th>\n",
       "      <th>eolian</th>\n",
       "      <th>productie</th>\n",
       "      <th>fotovolt</th>\n",
       "      <th>biomasa</th>\n",
       "      <th>sold</th>\n",
       "    </tr>\n",
       "  </thead>\n",
       "  <tbody>\n",
       "    <tr>\n",
       "      <th>0</th>\n",
       "      <td>2022-03-09</td>\n",
       "      <td>1537</td>\n",
       "      <td>8393</td>\n",
       "      <td>1736</td>\n",
       "      <td>970</td>\n",
       "      <td>1417</td>\n",
       "      <td>1394</td>\n",
       "      <td>7131</td>\n",
       "      <td>0</td>\n",
       "      <td>77</td>\n",
       "      <td>1234</td>\n",
       "    </tr>\n",
       "    <tr>\n",
       "      <th>1</th>\n",
       "      <td>2022-03-08</td>\n",
       "      <td>1402</td>\n",
       "      <td>6920</td>\n",
       "      <td>1616</td>\n",
       "      <td>944</td>\n",
       "      <td>1411</td>\n",
       "      <td>440</td>\n",
       "      <td>5887</td>\n",
       "      <td>0</td>\n",
       "      <td>74</td>\n",
       "      <td>1033</td>\n",
       "    </tr>\n",
       "    <tr>\n",
       "      <th>2</th>\n",
       "      <td>2022-03-06</td>\n",
       "      <td>1412</td>\n",
       "      <td>5962</td>\n",
       "      <td>1590</td>\n",
       "      <td>962</td>\n",
       "      <td>1407</td>\n",
       "      <td>372</td>\n",
       "      <td>5813</td>\n",
       "      <td>0</td>\n",
       "      <td>70</td>\n",
       "      <td>149</td>\n",
       "    </tr>\n",
       "    <tr>\n",
       "      <th>3</th>\n",
       "      <td>2022-03-05</td>\n",
       "      <td>1429</td>\n",
       "      <td>7205</td>\n",
       "      <td>1574</td>\n",
       "      <td>940</td>\n",
       "      <td>1411</td>\n",
       "      <td>309</td>\n",
       "      <td>5755</td>\n",
       "      <td>18</td>\n",
       "      <td>74</td>\n",
       "      <td>1469</td>\n",
       "    </tr>\n",
       "    <tr>\n",
       "      <th>4</th>\n",
       "      <td>2022-03-03</td>\n",
       "      <td>1557</td>\n",
       "      <td>8033</td>\n",
       "      <td>2100</td>\n",
       "      <td>978</td>\n",
       "      <td>1393</td>\n",
       "      <td>575</td>\n",
       "      <td>6687</td>\n",
       "      <td>0</td>\n",
       "      <td>83</td>\n",
       "      <td>1347</td>\n",
       "    </tr>\n",
       "    <tr>\n",
       "      <th>...</th>\n",
       "      <td>...</td>\n",
       "      <td>...</td>\n",
       "      <td>...</td>\n",
       "      <td>...</td>\n",
       "      <td>...</td>\n",
       "      <td>...</td>\n",
       "      <td>...</td>\n",
       "      <td>...</td>\n",
       "      <td>...</td>\n",
       "      <td>...</td>\n",
       "      <td>...</td>\n",
       "    </tr>\n",
       "    <tr>\n",
       "      <th>1394</th>\n",
       "      <td>2019-03-11</td>\n",
       "      <td>1086</td>\n",
       "      <td>7271</td>\n",
       "      <td>1662</td>\n",
       "      <td>1089</td>\n",
       "      <td>1393</td>\n",
       "      <td>2174</td>\n",
       "      <td>7524</td>\n",
       "      <td>68</td>\n",
       "      <td>53</td>\n",
       "      <td>-254</td>\n",
       "    </tr>\n",
       "    <tr>\n",
       "      <th>1395</th>\n",
       "      <td>2019-03-10</td>\n",
       "      <td>1266</td>\n",
       "      <td>6307</td>\n",
       "      <td>734</td>\n",
       "      <td>861</td>\n",
       "      <td>1396</td>\n",
       "      <td>2654</td>\n",
       "      <td>7560</td>\n",
       "      <td>603</td>\n",
       "      <td>45</td>\n",
       "      <td>-1253</td>\n",
       "    </tr>\n",
       "    <tr>\n",
       "      <th>1396</th>\n",
       "      <td>2019-03-09</td>\n",
       "      <td>1544</td>\n",
       "      <td>6502</td>\n",
       "      <td>1290</td>\n",
       "      <td>1074</td>\n",
       "      <td>1396</td>\n",
       "      <td>229</td>\n",
       "      <td>6195</td>\n",
       "      <td>609</td>\n",
       "      <td>54</td>\n",
       "      <td>308</td>\n",
       "    </tr>\n",
       "    <tr>\n",
       "      <th>1397</th>\n",
       "      <td>2019-03-08</td>\n",
       "      <td>2116</td>\n",
       "      <td>7348</td>\n",
       "      <td>1948</td>\n",
       "      <td>1105</td>\n",
       "      <td>1385</td>\n",
       "      <td>549</td>\n",
       "      <td>7211</td>\n",
       "      <td>52</td>\n",
       "      <td>57</td>\n",
       "      <td>137</td>\n",
       "    </tr>\n",
       "    <tr>\n",
       "      <th>1398</th>\n",
       "      <td>2019-03-07</td>\n",
       "      <td>2056</td>\n",
       "      <td>8502</td>\n",
       "      <td>1693</td>\n",
       "      <td>1359</td>\n",
       "      <td>1387</td>\n",
       "      <td>2391</td>\n",
       "      <td>8944</td>\n",
       "      <td>-1</td>\n",
       "      <td>57</td>\n",
       "      <td>-442</td>\n",
       "    </tr>\n",
       "  </tbody>\n",
       "</table>\n",
       "<p>1399 rows × 11 columns</p>\n",
       "</div>"
      ],
      "text/plain": [
       "            date  carbune  consum  hidro  hidrocarburi  nuclear  eolian  \\\n",
       "0     2022-03-09     1537    8393   1736           970     1417    1394   \n",
       "1     2022-03-08     1402    6920   1616           944     1411     440   \n",
       "2     2022-03-06     1412    5962   1590           962     1407     372   \n",
       "3     2022-03-05     1429    7205   1574           940     1411     309   \n",
       "4     2022-03-03     1557    8033   2100           978     1393     575   \n",
       "...          ...      ...     ...    ...           ...      ...     ...   \n",
       "1394  2019-03-11     1086    7271   1662          1089     1393    2174   \n",
       "1395  2019-03-10     1266    6307    734           861     1396    2654   \n",
       "1396  2019-03-09     1544    6502   1290          1074     1396     229   \n",
       "1397  2019-03-08     2116    7348   1948          1105     1385     549   \n",
       "1398  2019-03-07     2056    8502   1693          1359     1387    2391   \n",
       "\n",
       "      productie  fotovolt  biomasa  sold  \n",
       "0          7131         0       77  1234  \n",
       "1          5887         0       74  1033  \n",
       "2          5813         0       70   149  \n",
       "3          5755        18       74  1469  \n",
       "4          6687         0       83  1347  \n",
       "...         ...       ...      ...   ...  \n",
       "1394       7524        68       53  -254  \n",
       "1395       7560       603       45 -1253  \n",
       "1396       6195       609       54   308  \n",
       "1397       7211        52       57   137  \n",
       "1398       8944        -1       57  -442  \n",
       "\n",
       "[1399 rows x 11 columns]"
      ]
     },
     "execution_count": 103,
     "metadata": {},
     "output_type": "execute_result"
    }
   ],
   "source": [
    "data"
   ]
  },
  {
   "cell_type": "code",
   "execution_count": 138,
   "id": "aec04c83",
   "metadata": {},
   "outputs": [
    {
     "data": {
      "image/png": "[encoded data removed]",
      "text/plain": [
       "<Figure size 432x288 with 1 Axes>"
      ]
     },
     "metadata": {
      "needs_background": "light"
     },
     "output_type": "display_data"
    }
   ],
   "source": [
    "#plt.gca().xaxis.set_major_formatter(mdates.DateFormatter('%Y-%m-%d'))\n",
    "plt.gca().xaxis.set_major_locator(mdates.DayLocator(interval=100))\n",
    "plt.plot(np.flip(data.date),data.hidro)\n",
    "plt.gcf().autofmt_xdate()\n",
    "plt.xlabel(\"Date\")\n",
    "plt.ylabel(\"MW\")\n",
    "plt.title(\"Coal\")\n",
    "plt.tight_layout()\n",
    "plt.show()"
   ]
  },
  {
   "cell_type": "code",
   "execution_count": 139,
   "id": "59f03abe",
   "metadata": {},
   "outputs": [
    {
     "data": {
      "image/png": "[encoded data removed]",
      "text/plain": [
       "<Figure size 432x288 with 1 Axes>"
      ]
     },
     "metadata": {
      "needs_background": "light"
     },
     "output_type": "display_data"
    }
   ],
   "source": [
    "#plt.gca().xaxis.set_major_formatter(mdates.DateFormatter('%Y-%m-%d'))\n",
    "plt.gca().xaxis.set_major_locator(mdates.DayLocator(interval=100))\n",
    "plt.plot(np.flip(data.date),(np.convolve(data.hidro, np.ones(7), 'same') / 7))\n",
    "plt.gcf().autofmt_xdate()\n",
    "plt.xlabel(\"Date\")\n",
    "plt.ylabel(\"MW\")\n",
    "plt.title(\"Coal\")\n",
    "plt.tight_layout()\n",
    "plt.show()"
   ]
  },
  {
   "cell_type": "code",
   "execution_count": null,
   "id": "6bdf13f2",
   "metadata": {},
   "outputs": [],
   "source": []
  },
  {
   "cell_type": "code",
   "execution_count": 134,
   "id": "ee12f91e",
   "metadata": {},
   "outputs": [
    {
     "name": "stdout",
     "output_type": "stream",
     "text": [
      "1270.3659756969264\n",
      "315.2215947033026\n",
      "-0.23125097385386614\n",
      "0.10395615438456574\n",
      "0.2481344752092964\n"
     ]
    }
   ],
   "source": [
    "print(data.carbune.mean())\n",
    "print(np.std(data.carbune))\n",
    "print(skew(data.carbune))\n",
    "print(kurtosis(data.carbune))\n",
    "print(variation(data.carbune))"
   ]
  },
  {
   "cell_type": "code",
   "execution_count": 142,
   "id": "519acc88",
   "metadata": {},
   "outputs": [
    {
     "name": "stdout",
     "output_type": "stream",
     "text": [
      "1852.9671193709792\n",
      "724.3790362765338\n",
      "0.6617011856669276\n",
      "0.1013467496981093\n",
      "0.39092924461737694\n"
     ]
    }
   ],
   "source": [
    "print(data.hidro.mean())\n",
    "print(np.std(data.hidro))\n",
    "print(skew(data.hidro))\n",
    "print(kurtosis(data.hidro))\n",
    "print(variation(data.hidro))\n"
   ]
  },
  {
   "cell_type": "code",
   "execution_count": 126,
   "id": "cda33521",
   "metadata": {},
   "outputs": [
    {
     "name": "stdout",
     "output_type": "stream",
     "text": [
      "-0.23125097385386614\n",
      "-0.7307312602983598\n"
     ]
    }
   ],
   "source": []
  },
  {
   "cell_type": "code",
   "execution_count": 127,
   "id": "4755a356",
   "metadata": {},
   "outputs": [
    {
     "name": "stdout",
     "output_type": "stream",
     "text": [
      "0.10395615438456574\n",
      "0.6257898665949941\n"
     ]
    }
   ],
   "source": []
  },
  {
   "cell_type": "code",
   "execution_count": 128,
   "id": "0160da08",
   "metadata": {},
   "outputs": [
    {
     "name": "stdout",
     "output_type": "stream",
     "text": [
      "0.2481344752092964\n",
      "0.20415235936672385\n"
     ]
    }
   ],
   "source": []
  },
  {
   "cell_type": "code",
   "execution_count": 143,
   "id": "295a659c",
   "metadata": {},
   "outputs": [
    {
     "data": {
      "text/plain": [
       "(array([100.,  79., 165., 201., 130., 128., 112.,  56., 110.,  61.,  47.,\n",
       "         34.,  20.,  20.,  22.,  21.,  14.,  27.,  17.,  12.]),\n",
       " array([1066.875     , 1193.69791667, 1320.52083333, 1447.34375   ,\n",
       "        1574.16666667, 1700.98958333, 1827.8125    , 1954.63541667,\n",
       "        2081.45833333, 2208.28125   , 2335.10416667, 2461.92708333,\n",
       "        2588.75      , 2715.57291667, 2842.39583333, 2969.21875   ,\n",
       "        3096.04166667, 3222.86458333, 3349.6875    , 3476.51041667,\n",
       "        3603.33333333]),\n",
       " <BarContainer object of 20 artists>)"
      ]
     },
     "execution_count": 143,
     "metadata": {},
     "output_type": "execute_result"
    },
    {
     "data": {
      "image/png": "[encoded data removed]",
      "text/plain": [
       "<Figure size 432x288 with 1 Axes>"
      ]
     },
     "metadata": {
      "needs_background": "light"
     },
     "output_type": "display_data"
    }
   ],
   "source": [
    "plt.hist(data.hidro, bins ='auto')\n",
    "plt.hist(np.convolve(data.hidro, np.ones(24), 'valid') / 24, bins ='auto')\n"
   ]
  },
  {
   "cell_type": "code",
   "execution_count": null,
   "id": "b445f8e9",
   "metadata": {},
   "outputs": [],
   "source": []
  }
 ],
 "metadata": {
  "kernelspec": {
   "display_name": "Python 3 (ipykernel)",
   "language": "python",
   "name": "python3"
  },
  "language_info": {
   "codemirror_mode": {
    "name": "ipython",
    "version": 3
   },
   "file_extension": ".py",
   "mimetype": "text/x-python",
   "name": "python",
   "nbconvert_exporter": "python",
   "pygments_lexer": "ipython3",
   "version": "3.10.2"
  }
 },
 "nbformat": 4,
 "nbformat_minor": 5
}
